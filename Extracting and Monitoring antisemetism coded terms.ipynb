{
 "cells": [
  {
   "cell_type": "code",
   "execution_count": 44,
   "id": "c68284d0",
   "metadata": {},
   "outputs": [],
   "source": [
    "import numpy as np\n",
    "import pandas as pd\n",
    "import warnings\n",
    "warnings.filterwarnings('ignore')\n",
    "# Using for cleaning and Pre-Processing\n",
    "import re\n",
    "import string\n",
    "import nltk\n",
    "from nltk.corpus import stopwords\n",
    "from nltk.tokenize import word_tokenize\n",
    "from nltk.stem import WordNetLemmatizer\n",
    "from nltk import pos_tag\n",
    "import spacy\n",
    "en = spacy.load('en_core_web_sm')\n",
    "# To generate embedding\n",
    "from sklearn.feature_extraction.text import TfidfVectorizer\n",
    "from gensim.models.phrases import Phrases, ENGLISH_CONNECTOR_WORDS,Phraser\n",
    "from gensim.models import Word2Vec, KeyedVectors #To load the model\n",
    "from cleantext import clean\n",
    "import matplotlib.pyplot as plt\n",
    "from datetime import timedelta\n",
    "from datetime import datetime\n",
    "from time import time\n",
    "from tqdm import tqdm\n",
    "\n",
    "import matplotlib.gridspec as gridspec\n",
    "import matplotlib.pyplot as plt\n",
    "#To check for performance\n",
    "from sklearn.metrics import precision_score\n",
    "from sklearn.metrics import recall_score\n",
    "from sklearn.metrics import accuracy_score\n",
    "from sklearn.metrics import f1_score"
   ]
  },
  {
   "cell_type": "code",
   "execution_count": 4,
   "id": "663c88bb",
   "metadata": {},
   "outputs": [
    {
     "name": "stdout",
     "output_type": "stream",
     "text": [
      "Date    1\n",
      "Post    1\n",
      "dtype: int64\n",
      "            Date                                               Post\n",
      "6374  2022-12-24  >>409477824 He entire GOP is ZOG. Itâ€™s all a...\n",
      "12388 2022-12-24                >>409482710 >those kike demon claws\n",
      "12389 2022-12-24  >>4094824525 % of all americans especially bla...\n",
      "12390 2022-12-24  >>409477876 he is shit, I watched him briefly ...\n",
      "12391 2022-12-24  >>409483440 I'm going to take a wild guess tha...\n",
      "(36037, 2)\n"
     ]
    }
   ],
   "source": [
    "#Importing\n",
    "new_data=pd.read_csv(\"/Users/dhanushkikkisetti/Documents/Research Assistant/Research_paper/extreme right antisemitism _ new.csv\")\n",
    "data=new_data[['Date','Post']]\n",
    "#Removing Duplicate posts\n",
    "data=data.drop_duplicates()\n",
    "print(data.isnull().sum())\n",
    "data=data.dropna()\n",
    "#Converting into date type\n",
    "data['Date']=data['Date'].apply(lambda x:datetime.strptime(str(x),'%d/%m/%y'))\n",
    "data=data.sort_values(by='Date')\n",
    "print(data.head())\n",
    "print(data.shape)\n",
    "data.post=data.Post.astype(str)"
   ]
  },
  {
   "cell_type": "markdown",
   "id": "3d0d3744",
   "metadata": {},
   "source": [
    "## Text Cleaning and Pre-Processing"
   ]
  },
  {
   "cell_type": "code",
   "execution_count": 5,
   "id": "6d1642a0",
   "metadata": {},
   "outputs": [
    {
     "data": {
      "text/html": [
       "<div>\n",
       "<style scoped>\n",
       "    .dataframe tbody tr th:only-of-type {\n",
       "        vertical-align: middle;\n",
       "    }\n",
       "\n",
       "    .dataframe tbody tr th {\n",
       "        vertical-align: top;\n",
       "    }\n",
       "\n",
       "    .dataframe thead th {\n",
       "        text-align: right;\n",
       "    }\n",
       "</style>\n",
       "<table border=\"1\" class=\"dataframe\">\n",
       "  <thead>\n",
       "    <tr style=\"text-align: right;\">\n",
       "      <th></th>\n",
       "      <th>Date</th>\n",
       "      <th>Post</th>\n",
       "      <th>clean</th>\n",
       "    </tr>\n",
       "  </thead>\n",
       "  <tbody>\n",
       "    <tr>\n",
       "      <th>6374</th>\n",
       "      <td>2022-12-24</td>\n",
       "      <td>&gt;&gt;409477824 He entire GOP is ZOG. Itâ€™s all a...</td>\n",
       "      <td>he entire gop is zog it   s all a uniparty no...</td>\n",
       "    </tr>\n",
       "    <tr>\n",
       "      <th>12388</th>\n",
       "      <td>2022-12-24</td>\n",
       "      <td>&gt;&gt;409482710 &gt;those kike demon claws</td>\n",
       "      <td>those kike demon claws</td>\n",
       "    </tr>\n",
       "    <tr>\n",
       "      <th>12389</th>\n",
       "      <td>2022-12-24</td>\n",
       "      <td>&gt;&gt;4094824525 % of all americans especially bla...</td>\n",
       "      <td>of all americans especially blacks would acc...</td>\n",
       "    </tr>\n",
       "    <tr>\n",
       "      <th>12390</th>\n",
       "      <td>2022-12-24</td>\n",
       "      <td>&gt;&gt;409477876 he is shit, I watched him briefly ...</td>\n",
       "      <td>he is shit i watched him briefly when i was y...</td>\n",
       "    </tr>\n",
       "    <tr>\n",
       "      <th>12391</th>\n",
       "      <td>2022-12-24</td>\n",
       "      <td>&gt;&gt;409483440 I'm going to take a wild guess tha...</td>\n",
       "      <td>im going to take a wild guess that the guy th...</td>\n",
       "    </tr>\n",
       "  </tbody>\n",
       "</table>\n",
       "</div>"
      ],
      "text/plain": [
       "            Date                                               Post  \\\n",
       "6374  2022-12-24  >>409477824 He entire GOP is ZOG. Itâ€™s all a...   \n",
       "12388 2022-12-24                >>409482710 >those kike demon claws   \n",
       "12389 2022-12-24  >>4094824525 % of all americans especially bla...   \n",
       "12390 2022-12-24  >>409477876 he is shit, I watched him briefly ...   \n",
       "12391 2022-12-24  >>409483440 I'm going to take a wild guess tha...   \n",
       "\n",
       "                                                   clean  \n",
       "6374    he entire gop is zog it   s all a uniparty no...  \n",
       "12388                             those kike demon claws  \n",
       "12389    of all americans especially blacks would acc...  \n",
       "12390   he is shit i watched him briefly when i was y...  \n",
       "12391   im going to take a wild guess that the guy th...  "
      ]
     },
     "execution_count": 5,
     "metadata": {},
     "output_type": "execute_result"
    }
   ],
   "source": [
    "#Removing links\n",
    "data['clean']=data['Post'].apply(lambda x:re.sub(r\"http\\S+\",\"\",str(x)))\n",
    "#Converting letters into lowercase\n",
    "data['clean']=data['clean'].apply(lambda x: x.lower())\n",
    "#removing digits\n",
    "data['clean']=data['clean'].apply(lambda x:re.sub(\"\\d\",'',x))\n",
    "# removing punctuations\n",
    "data['clean']=data['clean'].apply(lambda x:x.translate(str.maketrans(\"\",\"\",string.punctuation)))\n",
    "#Include only letters\n",
    "data['clean']=data['clean'].apply(lambda x:re.sub(\"[^a-zA-Z]\",\" \",x))\n",
    "data.head()"
   ]
  },
  {
   "cell_type": "code",
   "execution_count": 6,
   "id": "9a2894d3",
   "metadata": {},
   "outputs": [],
   "source": [
    "def bigstring(text):\n",
    "    new=[]\n",
    "    for i in text:\n",
    "        if len(i)<11:\n",
    "            new.append(i)\n",
    "    return new\n",
    "def remove_stopwords(text):\n",
    "    stopwords1=set(stopwords.words('english'))\n",
    "    stopwords2= en.Defaults.stop_words\n",
    "    modified_text=[]\n",
    "    for i in text:\n",
    "        if i not in stopwords1 and i not in stopwords2:\n",
    "            modified_text.append(i)\n",
    "    return (modified_text)\n",
    "def lematize(text):\n",
    "    lematizer=WordNetLemmatizer()\n",
    "    lema=[]\n",
    "    for i in text:\n",
    "        lema.append(lematizer.lemmatize(i))\n",
    "    return (\" \".join(lema))\n",
    "def pos(text):\n",
    "    #Filtering terms of particular parts of speech\n",
    "    p=pos_tag(text)\n",
    "    pos_removal=[]\n",
    "    for tag in p:\n",
    "        if tag[1]=='JJ' or tag[1]=='NN' or tag[1]=='NNS'or tag[1]=='NNP'or tag[1]=='VBP':\n",
    "            pos_removal.append(tag[0])\n",
    "    return pos_removal"
   ]
  },
  {
   "cell_type": "code",
   "execution_count": 7,
   "id": "e5ad7c98",
   "metadata": {},
   "outputs": [
    {
     "data": {
      "text/html": [
       "<div>\n",
       "<style scoped>\n",
       "    .dataframe tbody tr th:only-of-type {\n",
       "        vertical-align: middle;\n",
       "    }\n",
       "\n",
       "    .dataframe tbody tr th {\n",
       "        vertical-align: top;\n",
       "    }\n",
       "\n",
       "    .dataframe thead th {\n",
       "        text-align: right;\n",
       "    }\n",
       "</style>\n",
       "<table border=\"1\" class=\"dataframe\">\n",
       "  <thead>\n",
       "    <tr style=\"text-align: right;\">\n",
       "      <th></th>\n",
       "      <th>Date</th>\n",
       "      <th>Post</th>\n",
       "      <th>clean</th>\n",
       "    </tr>\n",
       "  </thead>\n",
       "  <tbody>\n",
       "    <tr>\n",
       "      <th>6374</th>\n",
       "      <td>2022-12-24</td>\n",
       "      <td>&gt;&gt;409477824 He entire GOP is ZOG. Itâ€™s all a...</td>\n",
       "      <td>entire gop uniparty stage aipac</td>\n",
       "    </tr>\n",
       "    <tr>\n",
       "      <th>12388</th>\n",
       "      <td>2022-12-24</td>\n",
       "      <td>&gt;&gt;409482710 &gt;those kike demon claws</td>\n",
       "      <td>kike demon claw</td>\n",
       "    </tr>\n",
       "    <tr>\n",
       "      <th>12389</th>\n",
       "      <td>2022-12-24</td>\n",
       "      <td>&gt;&gt;4094824525 % of all americans especially bla...</td>\n",
       "      <td>american black kike killer mission rest anit b...</td>\n",
       "    </tr>\n",
       "    <tr>\n",
       "      <th>12390</th>\n",
       "      <td>2022-12-24</td>\n",
       "      <td>&gt;&gt;409477876 he is shit, I watched him briefly ...</td>\n",
       "      <td>shit nowadays he horrendous check channel lock...</td>\n",
       "    </tr>\n",
       "    <tr>\n",
       "      <th>12391</th>\n",
       "      <td>2022-12-24</td>\n",
       "      <td>&gt;&gt;409483440 I'm going to take a wild guess tha...</td>\n",
       "      <td>im wild guess guy thread time meme flag kike</td>\n",
       "    </tr>\n",
       "  </tbody>\n",
       "</table>\n",
       "</div>"
      ],
      "text/plain": [
       "            Date                                               Post  \\\n",
       "6374  2022-12-24  >>409477824 He entire GOP is ZOG. Itâ€™s all a...   \n",
       "12388 2022-12-24                >>409482710 >those kike demon claws   \n",
       "12389 2022-12-24  >>4094824525 % of all americans especially bla...   \n",
       "12390 2022-12-24  >>409477876 he is shit, I watched him briefly ...   \n",
       "12391 2022-12-24  >>409483440 I'm going to take a wild guess tha...   \n",
       "\n",
       "                                                   clean  \n",
       "6374                     entire gop uniparty stage aipac  \n",
       "12388                                    kike demon claw  \n",
       "12389  american black kike killer mission rest anit b...  \n",
       "12390  shit nowadays he horrendous check channel lock...  \n",
       "12391       im wild guess guy thread time meme flag kike  "
      ]
     },
     "execution_count": 7,
     "metadata": {},
     "output_type": "execute_result"
    }
   ],
   "source": [
    "data['clean']=data['clean'].apply(lambda x:word_tokenize(x))\n",
    "data['clean']=data['clean'].apply(lambda x:pos(x))\n",
    "data['clean']=data['clean'].apply(lambda x:bigstring(x))\n",
    "data['clean']=data['clean'].apply(lambda x:remove_stopwords(x))\n",
    "data['clean']=data['clean'].apply(lambda x:lematize(x))\n",
    "data.head()"
   ]
  },
  {
   "cell_type": "markdown",
   "id": "2860bbab",
   "metadata": {},
   "source": [
    "## Extracting top n-terms for each time phase"
   ]
  },
  {
   "cell_type": "code",
   "execution_count": 8,
   "id": "2014f515",
   "metadata": {},
   "outputs": [],
   "source": [
    "def emerging(starting_date,window,terms):\n",
    "    x=pd.to_datetime(starting_date)\n",
    "    windowsize=window\n",
    "    glossary=['kike','zog','george soros','rothschild']\n",
    "    important_terms={}\n",
    "    z=1\n",
    "    check=True\n",
    "    if x>data['Date'].max():\n",
    "        return 'Check the starting date'\n",
    "    \n",
    "    while(tqdm(check)):\n",
    "        #For each time step\n",
    "        if (x+timedelta(days=windowsize))>=data['Date'].max():\n",
    "            y=data['Date'].max()\n",
    "            check=False\n",
    "        else:\n",
    "            y=(x+timedelta(days=windowsize))\n",
    "        data1=data.clean[(data['Date']>=x)&(data['Date']<y)]\n",
    "        text=' '.join(data1)\n",
    "        x=x+timedelta(days=windowsize)\n",
    "        #Generate TF-IDF Matrix\n",
    "        tf_idfvectorizer=TfidfVectorizer(ngram_range=(2,2))\n",
    "        tfidf=tf_idfvectorizer.fit_transform(data1)\n",
    "        features=tf_idfvectorizer.get_feature_names_out()\n",
    "        \n",
    "        #Exporting all Bigrams\n",
    "        #pd.DataFrame(features).to_csv(\"Bigrams \"+str(z)+\".csv\",header=['All Bigrams'])\n",
    "        \n",
    "        #Finding Emerging terms/Initializing glossary\n",
    "        emerging_terms=[]\n",
    "        for i in features:\n",
    "            if i not in glossary:\n",
    "                emerging_terms.append(i)\n",
    "                #glossary.append(i)\n",
    "        \n",
    "        #Finding the index of emerging terms\n",
    "        findex=[i for i,word in enumerate(features) if word in emerging_terms ]\n",
    "        \n",
    "        #Finding the highest tf-idf value for all the feature names across all documents\n",
    "        tfidf_values={}\n",
    "        for column in tqdm(findex):\n",
    "            high=0\n",
    "            for row in range(tfidf.shape[0]):\n",
    "                if tfidf[row,column]>high:\n",
    "                    high=tfidf[row,column]\n",
    "            tfidf_values[features[column]]=high\n",
    "        \n",
    "        tfidf_values=sorted(tfidf_values.items(),key=lambda x:x[1],reverse=True)\n",
    "        \n",
    "        #Exporting Top Tf-idf values with bigrams\n",
    "        \n",
    "        #pd.DataFrame(tfidf_values).to_csv(\"SubtractionBigram-Tfidf \"+str(z)+\".csv\",header  = ['Bigrams','TF-IDF Values'])\n",
    "        #print(tfidf_values[:20])\n",
    "    \n",
    "        #Extracting bigrams after TF-IDF threshold cut off\n",
    "        a=0\n",
    "        for i in tfidf_values:\n",
    "            a=a+i[1]\n",
    "        print(\"Threshold for \"+str(z)+ \"window\",a/len(tfidf_values))\n",
    "        final_tfidf={}\n",
    "        for i in tfidf_values:\n",
    "            if i[1]>a/len(tfidf_values):\n",
    "                final_tfidf[i[0]]=i[1]\n",
    "            else:\n",
    "                glossary.append(i[0])\n",
    "        #Exporting Tf-idf values above threshold\n",
    "        #pd.DataFrame.from_dict(data=final_tfidf, orient='index').to_csv(\"Bigram_threshold \"+str(z)+\".csv\",index_label='Bigrams',header  = ['TF-IDF Values'])\n",
    "        \n",
    "        #Frequency of words in that window size\n",
    "        words_frequency={}\n",
    "        text1=text.split(\" \")\n",
    "        pairs=list(zip(text1[:-1],text1[1:]))\n",
    "        bigrams=[' '.join(i) for i in pairs]\n",
    "        for word in (final_tfidf.keys()):\n",
    "            words_frequency[word]=0\n",
    "            for i in bigrams:\n",
    "                if word==i:\n",
    "                    words_frequency[word]=words_frequency[word]+1\n",
    "                \n",
    "        words_frequency=sorted(words_frequency.items(),key=lambda x:x[1],reverse=True)\n",
    "        \n",
    "        #Appending terms in Imp terms list\n",
    "        for i in range(terms):\n",
    "            important_terms[words_frequency[i][0]]=words_frequency[i][1]\n",
    "        # Frequency for Important terms\n",
    "        for key in important_terms.keys():\n",
    "            important_terms[key]=0\n",
    "            for i in bigrams:\n",
    "                if key==i:\n",
    "                    important_terms[key]=important_terms[key]+1\n",
    "        \n",
    "        \n",
    "        # Exporting Bigrams with frequency\n",
    "        #pd.DataFrame(words_frequency).to_csv(\"Bigram_frequency \"+str(z)+\".csv\",header  = ['Bigrams','Frequency'])\n",
    "        \n",
    "        #Exporting Important terms that is coming from  window\n",
    "        pd.DataFrame.from_dict(data=important_terms, orient='index').to_csv(\"Important_terms \"+str(z)+\".csv\",index_label='Bigrams',header  = ['Frequency'])\n",
    "\n",
    "        \n",
    "        #Ploting the graph\n",
    "        x_label=[]\n",
    "        y_label=[]\n",
    "        for i in range(terms):\n",
    "            x_label.append(words_frequency[i][0])\n",
    "            glossary.append(words_frequency[i][0])\n",
    "        for i in range(terms):\n",
    "            y_label.append(words_frequency[i][1])\n",
    "        plt.figure(figsize=(20,5))\n",
    "        plt.bar(range(len(x_label)),y_label,tick_label=x_label)\n",
    "\n",
    "        plt.show()\n",
    "        z=z+1\n"
   ]
  },
  {
   "cell_type": "code",
   "execution_count": 9,
   "id": "4b77aa1e",
   "metadata": {},
   "outputs": [
    {
     "name": "stderr",
     "output_type": "stream",
     "text": [
      "0it [00:00, ?it/s]\n",
      "100%|█████████████████████████████████████████████████████████████████████████████████████████| 73070/73070 [2:07:51<00:00,  9.52it/s]\n"
     ]
    },
    {
     "name": "stdout",
     "output_type": "stream",
     "text": [
      "Threshold for 1window 0.1761295578373303\n"
     ]
    },
    {
     "data": {
      "image/png": "[encoded data removed]",
      "text/plain": [
       "<Figure size 2000x500 with 1 Axes>"
      ]
     },
     "metadata": {},
     "output_type": "display_data"
    },
    {
     "name": "stderr",
     "output_type": "stream",
     "text": [
      "0it [00:00, ?it/s]\n",
      "100%|█████████████████████████████████████████████████████████████████████████████████████████| 86368/86368 [1:06:27<00:00, 21.66it/s]\n"
     ]
    },
    {
     "name": "stdout",
     "output_type": "stream",
     "text": [
      "Threshold for 2window 0.1667538114904102\n"
     ]
    },
    {
     "data": {
      "image/png": "[encoded data removed]",
      "text/plain": [
       "<Figure size 2000x500 with 1 Axes>"
      ]
     },
     "metadata": {},
     "output_type": "display_data"
    },
    {
     "name": "stderr",
     "output_type": "stream",
     "text": [
      "0it [00:00, ?it/s]\n",
      "100%|█████████████████████████████████████████████████████████████████████████████████████████| 96082/96082 [1:37:05<00:00, 16.49it/s]\n"
     ]
    },
    {
     "name": "stdout",
     "output_type": "stream",
     "text": [
      "Threshold for 3window 0.17779101467975772\n"
     ]
    },
    {
     "data": {
      "image/png": "[encoded data removed]",
      "text/plain": [
       "<Figure size 2000x500 with 1 Axes>"
      ]
     },
     "metadata": {},
     "output_type": "display_data"
    },
    {
     "name": "stderr",
     "output_type": "stream",
     "text": [
      "0it [00:00, ?it/s]\n",
      "100%|█████████████████████████████████████████████████████████████████████████████████████████| 87349/87349 [1:20:45<00:00, 18.03it/s]\n"
     ]
    },
    {
     "name": "stdout",
     "output_type": "stream",
     "text": [
      "Threshold for 4window 0.1730403510324544\n"
     ]
    },
    {
     "data": {
      "image/png": "[encoded data removed]",
      "text/plain": [
       "<Figure size 2000x500 with 1 Axes>"
      ]
     },
     "metadata": {},
     "output_type": "display_data"
    },
    {
     "name": "stderr",
     "output_type": "stream",
     "text": [
      "0it [00:00, ?it/s]\n",
      "100%|█████████████████████████████████████████████████████████████████████████████████████████| 81774/81774 [1:50:43<00:00, 12.31it/s]\n"
     ]
    },
    {
     "name": "stdout",
     "output_type": "stream",
     "text": [
      "Threshold for 5window 0.16741165576216588\n"
     ]
    },
    {
     "data": {
      "image/png": "[encoded data removed]",
      "text/plain": [
       "<Figure size 2000x500 with 1 Axes>"
      ]
     },
     "metadata": {},
     "output_type": "display_data"
    },
    {
     "name": "stderr",
     "output_type": "stream",
     "text": [
      "0it [00:00, ?it/s]\n",
      "100%|█████████████████████████████████████████████████████████████████████████████████████████| 74250/74250 [1:24:49<00:00, 14.59it/s]\n"
     ]
    },
    {
     "name": "stdout",
     "output_type": "stream",
     "text": [
      "Threshold for 6window 0.1846764421274033\n"
     ]
    },
    {
     "data": {
      "image/png": "[encoded data removed]",
      "text/plain": [
       "<Figure size 2000x500 with 1 Axes>"
      ]
     },
     "metadata": {},
     "output_type": "display_data"
    },
    {
     "name": "stderr",
     "output_type": "stream",
     "text": [
      "0it [00:00, ?it/s]\n"
     ]
    }
   ],
   "source": [
    "emerging(starting_date='2022-12-24',window=10,terms=25)"
   ]
  },
  {
   "cell_type": "markdown",
   "id": "b8f3f57f",
   "metadata": {},
   "source": [
    "## Training a word2vec model"
   ]
  },
  {
   "cell_type": "code",
   "execution_count": 12,
   "id": "7d819656",
   "metadata": {},
   "outputs": [],
   "source": [
    "## Preprocessing and cleaning. \n",
    "# Including all the parts of speech words for training word2vec model."
   ]
  },
  {
   "cell_type": "code",
   "execution_count": 13,
   "id": "35c01009",
   "metadata": {},
   "outputs": [],
   "source": [
    "emoji_pattern = re.compile(\"[\"\n",
    "                               u\"\\U0001F600-\\U0001F64F\"  # emoticons\n",
    "                               u\"\\U0001F300-\\U0001F5FF\"  # symbols & pictographs\n",
    "                               u\"\\U0001F680-\\U0001F6FF\"  # transport & map symbols\n",
    "                               u\"\\U0001F1E0-\\U0001F1FF\"  # flags (iOS)\n",
    "                               u\"\\U00002500-\\U00002BEF\"  # chinese char\n",
    "                               u\"\\U00002702-\\U000027B0\"\n",
    "                               u\"\\U00002702-\\U000027B0\"\n",
    "                               u\"\\U000024C2-\\U0001F251\"\n",
    "                               u\"\\U0001f926-\\U0001f937\"\n",
    "                               u\"\\U00010000-\\U0010ffff\"\n",
    "                               u\"\\u2640-\\u2642\"\n",
    "                               u\"\\u2600-\\u2B55\"\n",
    "                               u\"\\u200d\"\n",
    "                               u\"\\u23cf\"\n",
    "                               u\"\\u23e9\"\n",
    "                               u\"\\u231a\"\n",
    "                               u\"\\ufe0f\"  # dingbats\n",
    "                               u\"\\u3030\"\n",
    "                               \"]+\", flags=re.UNICODE)"
   ]
  },
  {
   "cell_type": "code",
   "execution_count": 14,
   "id": "80046909",
   "metadata": {},
   "outputs": [],
   "source": [
    "data['Cleaned Text']=data['Post'].apply(lambda x:re.sub(r\"https\\S+\",\"\",str(x)))\n",
    "data['Cleaned Text']=data['Cleaned Text'].apply(lambda x:x.lower())\n",
    "data['Cleaned Text']=data['Cleaned Text'].apply(lambda x:re.sub(\"\\d\",\"\",x))\n",
    "data['Cleaned Text']=data['Cleaned Text'].apply(lambda x:x.translate(str.maketrans(\"\",\"\",string.punctuation)))\n",
    "data['Cleaned Text']=data['Cleaned Text'].apply(lambda x:emoji_pattern.sub(r\"\",x))\n",
    "data['Cleaned Text']=data['Cleaned Text'].apply(lambda x:re.sub(\"[^a-zA-Z]\",\" \",x))\n"
   ]
  },
  {
   "cell_type": "code",
   "execution_count": 15,
   "id": "b71d7081",
   "metadata": {},
   "outputs": [
    {
     "data": {
      "text/html": [
       "<div>\n",
       "<style scoped>\n",
       "    .dataframe tbody tr th:only-of-type {\n",
       "        vertical-align: middle;\n",
       "    }\n",
       "\n",
       "    .dataframe tbody tr th {\n",
       "        vertical-align: top;\n",
       "    }\n",
       "\n",
       "    .dataframe thead th {\n",
       "        text-align: right;\n",
       "    }\n",
       "</style>\n",
       "<table border=\"1\" class=\"dataframe\">\n",
       "  <thead>\n",
       "    <tr style=\"text-align: right;\">\n",
       "      <th></th>\n",
       "      <th>Date</th>\n",
       "      <th>Post</th>\n",
       "      <th>clean</th>\n",
       "      <th>Cleaned Text</th>\n",
       "    </tr>\n",
       "  </thead>\n",
       "  <tbody>\n",
       "    <tr>\n",
       "      <th>6374</th>\n",
       "      <td>2022-12-24</td>\n",
       "      <td>&gt;&gt;409477824 He entire GOP is ZOG. Itâ€™s all a...</td>\n",
       "      <td>entire gop uniparty stage aipac</td>\n",
       "      <td>[entire, gop, zog, uniparty, getting, stage, a...</td>\n",
       "    </tr>\n",
       "    <tr>\n",
       "      <th>12388</th>\n",
       "      <td>2022-12-24</td>\n",
       "      <td>&gt;&gt;409482710 &gt;those kike demon claws</td>\n",
       "      <td>kike demon claw</td>\n",
       "      <td>[kike, demon, claw]</td>\n",
       "    </tr>\n",
       "    <tr>\n",
       "      <th>12389</th>\n",
       "      <td>2022-12-24</td>\n",
       "      <td>&gt;&gt;4094824525 % of all americans especially bla...</td>\n",
       "      <td>american black kike killer mission rest anit b...</td>\n",
       "      <td>[american, especially, black, accept, kike, ki...</td>\n",
       "    </tr>\n",
       "    <tr>\n",
       "      <th>12390</th>\n",
       "      <td>2022-12-24</td>\n",
       "      <td>&gt;&gt;409477876 he is shit, I watched him briefly ...</td>\n",
       "      <td>shit nowadays he horrendous check channel lock...</td>\n",
       "      <td>[shit, watched, briefly, younger, nowadays, he...</td>\n",
       "    </tr>\n",
       "    <tr>\n",
       "      <th>12391</th>\n",
       "      <td>2022-12-24</td>\n",
       "      <td>&gt;&gt;409483440 I'm going to take a wild guess tha...</td>\n",
       "      <td>im wild guess guy thread time meme flag kike</td>\n",
       "      <td>[im, going, wild, guess, guy, bumped, thread, ...</td>\n",
       "    </tr>\n",
       "  </tbody>\n",
       "</table>\n",
       "</div>"
      ],
      "text/plain": [
       "            Date                                               Post  \\\n",
       "6374  2022-12-24  >>409477824 He entire GOP is ZOG. Itâ€™s all a...   \n",
       "12388 2022-12-24                >>409482710 >those kike demon claws   \n",
       "12389 2022-12-24  >>4094824525 % of all americans especially bla...   \n",
       "12390 2022-12-24  >>409477876 he is shit, I watched him briefly ...   \n",
       "12391 2022-12-24  >>409483440 I'm going to take a wild guess tha...   \n",
       "\n",
       "                                                   clean  \\\n",
       "6374                     entire gop uniparty stage aipac   \n",
       "12388                                    kike demon claw   \n",
       "12389  american black kike killer mission rest anit b...   \n",
       "12390  shit nowadays he horrendous check channel lock...   \n",
       "12391       im wild guess guy thread time meme flag kike   \n",
       "\n",
       "                                            Cleaned Text  \n",
       "6374   [entire, gop, zog, uniparty, getting, stage, a...  \n",
       "12388                                [kike, demon, claw]  \n",
       "12389  [american, especially, black, accept, kike, ki...  \n",
       "12390  [shit, watched, briefly, younger, nowadays, he...  \n",
       "12391  [im, going, wild, guess, guy, bumped, thread, ...  "
      ]
     },
     "execution_count": 15,
     "metadata": {},
     "output_type": "execute_result"
    }
   ],
   "source": [
    "def lematize(text):\n",
    "    lematizer=WordNetLemmatizer()\n",
    "    lema=[]\n",
    "    for i in text:\n",
    "        lema.append(lematizer.lemmatize(i))\n",
    "    return lema\n",
    "data['Cleaned Text']=data['Cleaned Text'].apply(lambda x:word_tokenize(x))\n",
    "data['Cleaned Text']=data['Cleaned Text'].apply(lambda x:bigstring(x))\n",
    "data['Cleaned Text']=data['Cleaned Text'].apply(lambda x:remove_stopwords(x))\n",
    "data['Cleaned Text']=data['Cleaned Text'].apply(lambda x:lematize(x))\n",
    "data.head()"
   ]
  },
  {
   "cell_type": "code",
   "execution_count": 16,
   "id": "300b2325",
   "metadata": {},
   "outputs": [],
   "source": [
    "#Using Phrases function to get bi-grams merged with underscore \n",
    "text=data['Cleaned Text']\n",
    "phrases=Phrases(text,threshold=5,min_count=5,connector_words=ENGLISH_CONNECTOR_WORDS)"
   ]
  },
  {
   "cell_type": "code",
   "execution_count": 17,
   "id": "43c51ff6",
   "metadata": {},
   "outputs": [
    {
     "data": {
      "text/plain": [
       "6374     [entire, gop, zog, uniparty, getting, stage, a...\n",
       "12388                                  [kike, demon, claw]\n",
       "12389    [american, especially, black, accept, kike, ki...\n",
       "12390    [shit, watched, briefly, younger, nowadays, he...\n",
       "12391    [im_going, wild, guess, guy, bumped, thread, t...\n",
       "                               ...                        \n",
       "23567    [kike, use, type, sluryou, reek, reddit, retar...\n",
       "23566                   [shes, kike, real, rachel, seidel]\n",
       "23565    [soon, dy, national_socialism, rise, left, wil...\n",
       "23580                                           [he, kike]\n",
       "38504    [der, plan, de, deep_state, ist_die, menschhei...\n",
       "Name: Cleaned Text, Length: 36037, dtype: object"
      ]
     },
     "execution_count": 17,
     "metadata": {},
     "output_type": "execute_result"
    }
   ],
   "source": [
    "def sentence_to_bigram(sent):\n",
    "    return phrases[sent]\n",
    "#Runing phrases object on each document(tweet)\n",
    "data['Cleaned Text']=data['Cleaned Text'].apply(lambda x:sentence_to_bigram(x))\n",
    "data['Cleaned Text']"
   ]
  },
  {
   "cell_type": "code",
   "execution_count": 18,
   "id": "e7f3ed29",
   "metadata": {},
   "outputs": [],
   "source": [
    "#model=Word2Vec(data['Cleaned Text'], min_count=5, vector_size=200, window = 5, sg = 1)\n",
    "#model.save('rightantisemiw2v_model')\n",
    "#Using the saved word2vec model\n",
    "model=Word2Vec.load('rightantisemiw2v_model')"
   ]
  },
  {
   "cell_type": "markdown",
   "id": "97237e5c",
   "metadata": {},
   "source": [
    "## Checking for semantically related to antisemitic discourse"
   ]
  },
  {
   "cell_type": "code",
   "execution_count": 45,
   "id": "964a199b",
   "metadata": {},
   "outputs": [
    {
     "name": "stdout",
     "output_type": "stream",
     "text": [
      "['deep_state', 'ect_ect', 'united_state', 'kike_kike', 'alex_jones', 'soros_soros', 'world_order', 'klaus_schwab', 'white_hat']\n"
     ]
    }
   ],
   "source": [
    "#Importing all 150 important terms,all terms till window 6.\n",
    "window6=pd.read_csv(\"/Users/dhanushkikkisetti/Documents/Research Assistant/Research_paper/Important_terms 6.csv\")\n",
    "bigrams_tfidf=list(window6['Bigrams'])\n",
    "tfidf_bigram=['_'.join(i.split()) for i in bigrams_tfidf]\n",
    "print(tfidf_bigram[1:10])\n"
   ]
  },
  {
   "cell_type": "code",
   "execution_count": 21,
   "id": "3e6f00c9",
   "metadata": {},
   "outputs": [
    {
     "data": {
      "text/plain": [
       "150"
      ]
     },
     "execution_count": 21,
     "metadata": {},
     "output_type": "execute_result"
    }
   ],
   "source": [
    "len(tfidf_bigram)\n"
   ]
  },
  {
   "cell_type": "code",
   "execution_count": 47,
   "id": "0c1b99b7",
   "metadata": {},
   "outputs": [],
   "source": [
    "# Antisemetic terms used for extracting tweets.\n",
    "intial_glossary_used=['zog','kike','george_soros','rothschild']\n",
    "similarity_df=pd.DataFrame(columns=['Term','zog','kike','george soros','rothschild','Average'])"
   ]
  },
  {
   "cell_type": "code",
   "execution_count": 48,
   "id": "89e54204",
   "metadata": {},
   "outputs": [],
   "source": [
    "# Getting semantic similarity socre for each important terms to all antisemetic terms\n",
    "similarity_scores=[]\n",
    "for bigram in tfidf_bigram:\n",
    "    vec=np.random.uniform(-0.0001,-0.00001,200)\n",
    "    score=[bigram]\n",
    "    s=0\n",
    "    for anti in intial_glossary_used:\n",
    "        try:\n",
    "            sim=model.wv.similarity(bigram,anti)\n",
    "            score.append(sim)\n",
    "            s=s+sim\n",
    "        except KeyError:\n",
    "            cos_sim=np.dot(vec,model.wv[anti])/(np.linalg.norm(vec)*np.linalg.norm(model.wv[anti]))\n",
    "            score.append(cos_sim)\n",
    "            s=s+cos_sim\n",
    "    score.append(s/5)\n",
    "    similarity_df.loc[len(similarity_df)]=score"
   ]
  },
  {
   "cell_type": "code",
   "execution_count": 49,
   "id": "d48bc009",
   "metadata": {},
   "outputs": [
    {
     "data": {
      "text/plain": [
       "0.11108463345245025"
      ]
     },
     "execution_count": 49,
     "metadata": {},
     "output_type": "execute_result"
    }
   ],
   "source": [
    "# Setting up the threshold\n",
    "threshold=sum(similarity_df['Average'])/len(similarity_df['Average'])\n",
    "similarity_df['predict']=similarity_df.Average.apply(lambda x:1 if x>threshold else 0)\n",
    "threshold"
   ]
  },
  {
   "cell_type": "code",
   "execution_count": 50,
   "id": "64f926bf",
   "metadata": {},
   "outputs": [
    {
     "data": {
      "text/html": [
       "<div>\n",
       "<style scoped>\n",
       "    .dataframe tbody tr th:only-of-type {\n",
       "        vertical-align: middle;\n",
       "    }\n",
       "\n",
       "    .dataframe tbody tr th {\n",
       "        vertical-align: top;\n",
       "    }\n",
       "\n",
       "    .dataframe thead th {\n",
       "        text-align: right;\n",
       "    }\n",
       "</style>\n",
       "<table border=\"1\" class=\"dataframe\">\n",
       "  <thead>\n",
       "    <tr style=\"text-align: right;\">\n",
       "      <th></th>\n",
       "      <th>Term</th>\n",
       "      <th>zog</th>\n",
       "      <th>kike</th>\n",
       "      <th>george soros</th>\n",
       "      <th>rothschild</th>\n",
       "      <th>Average</th>\n",
       "      <th>predict</th>\n",
       "    </tr>\n",
       "  </thead>\n",
       "  <tbody>\n",
       "    <tr>\n",
       "      <th>0</th>\n",
       "      <td>george_soros</td>\n",
       "      <td>0.236617</td>\n",
       "      <td>0.163366</td>\n",
       "      <td>1.000000</td>\n",
       "      <td>0.133440</td>\n",
       "      <td>0.306684</td>\n",
       "      <td>1</td>\n",
       "    </tr>\n",
       "    <tr>\n",
       "      <th>1</th>\n",
       "      <td>deep_state</td>\n",
       "      <td>0.201637</td>\n",
       "      <td>0.150942</td>\n",
       "      <td>0.400054</td>\n",
       "      <td>0.217507</td>\n",
       "      <td>0.194028</td>\n",
       "      <td>1</td>\n",
       "    </tr>\n",
       "    <tr>\n",
       "      <th>2</th>\n",
       "      <td>ect_ect</td>\n",
       "      <td>0.105124</td>\n",
       "      <td>0.014445</td>\n",
       "      <td>0.172354</td>\n",
       "      <td>0.192081</td>\n",
       "      <td>0.096801</td>\n",
       "      <td>0</td>\n",
       "    </tr>\n",
       "    <tr>\n",
       "      <th>3</th>\n",
       "      <td>united_state</td>\n",
       "      <td>0.141195</td>\n",
       "      <td>0.111539</td>\n",
       "      <td>0.225366</td>\n",
       "      <td>0.059033</td>\n",
       "      <td>0.107427</td>\n",
       "      <td>0</td>\n",
       "    </tr>\n",
       "    <tr>\n",
       "      <th>4</th>\n",
       "      <td>kike_kike</td>\n",
       "      <td>0.031003</td>\n",
       "      <td>-0.082216</td>\n",
       "      <td>-0.071066</td>\n",
       "      <td>-0.047804</td>\n",
       "      <td>-0.034017</td>\n",
       "      <td>0</td>\n",
       "    </tr>\n",
       "    <tr>\n",
       "      <th>...</th>\n",
       "      <td>...</td>\n",
       "      <td>...</td>\n",
       "      <td>...</td>\n",
       "      <td>...</td>\n",
       "      <td>...</td>\n",
       "      <td>...</td>\n",
       "      <td>...</td>\n",
       "    </tr>\n",
       "    <tr>\n",
       "      <th>145</th>\n",
       "      <td>joshua_wannabe</td>\n",
       "      <td>0.169731</td>\n",
       "      <td>0.192831</td>\n",
       "      <td>0.081686</td>\n",
       "      <td>0.073486</td>\n",
       "      <td>0.103547</td>\n",
       "      <td>0</td>\n",
       "    </tr>\n",
       "    <tr>\n",
       "      <th>146</th>\n",
       "      <td>lil_shrimpie</td>\n",
       "      <td>0.160173</td>\n",
       "      <td>0.189572</td>\n",
       "      <td>0.067343</td>\n",
       "      <td>0.072293</td>\n",
       "      <td>0.097876</td>\n",
       "      <td>0</td>\n",
       "    </tr>\n",
       "    <tr>\n",
       "      <th>147</th>\n",
       "      <td>nazi_lil</td>\n",
       "      <td>0.169937</td>\n",
       "      <td>0.203317</td>\n",
       "      <td>0.062534</td>\n",
       "      <td>0.067669</td>\n",
       "      <td>0.100691</td>\n",
       "      <td>0</td>\n",
       "    </tr>\n",
       "    <tr>\n",
       "      <th>148</th>\n",
       "      <td>shrimpie_dick</td>\n",
       "      <td>0.162507</td>\n",
       "      <td>0.190776</td>\n",
       "      <td>0.076720</td>\n",
       "      <td>0.073485</td>\n",
       "      <td>0.100698</td>\n",
       "      <td>0</td>\n",
       "    </tr>\n",
       "    <tr>\n",
       "      <th>149</th>\n",
       "      <td>wannabe_nazi</td>\n",
       "      <td>0.163194</td>\n",
       "      <td>0.192741</td>\n",
       "      <td>0.080718</td>\n",
       "      <td>0.077774</td>\n",
       "      <td>0.102885</td>\n",
       "      <td>0</td>\n",
       "    </tr>\n",
       "  </tbody>\n",
       "</table>\n",
       "<p>150 rows × 7 columns</p>\n",
       "</div>"
      ],
      "text/plain": [
       "               Term       zog      kike  george soros  rothschild   Average  \\\n",
       "0      george_soros  0.236617  0.163366      1.000000    0.133440  0.306684   \n",
       "1        deep_state  0.201637  0.150942      0.400054    0.217507  0.194028   \n",
       "2           ect_ect  0.105124  0.014445      0.172354    0.192081  0.096801   \n",
       "3      united_state  0.141195  0.111539      0.225366    0.059033  0.107427   \n",
       "4         kike_kike  0.031003 -0.082216     -0.071066   -0.047804 -0.034017   \n",
       "..              ...       ...       ...           ...         ...       ...   \n",
       "145  joshua_wannabe  0.169731  0.192831      0.081686    0.073486  0.103547   \n",
       "146    lil_shrimpie  0.160173  0.189572      0.067343    0.072293  0.097876   \n",
       "147        nazi_lil  0.169937  0.203317      0.062534    0.067669  0.100691   \n",
       "148   shrimpie_dick  0.162507  0.190776      0.076720    0.073485  0.100698   \n",
       "149    wannabe_nazi  0.163194  0.192741      0.080718    0.077774  0.102885   \n",
       "\n",
       "     predict  \n",
       "0          1  \n",
       "1          1  \n",
       "2          0  \n",
       "3          0  \n",
       "4          0  \n",
       "..       ...  \n",
       "145        0  \n",
       "146        0  \n",
       "147        0  \n",
       "148        0  \n",
       "149        0  \n",
       "\n",
       "[150 rows x 7 columns]"
      ]
     },
     "execution_count": 50,
     "metadata": {},
     "output_type": "execute_result"
    }
   ],
   "source": [
    "similarity_df"
   ]
  },
  {
   "cell_type": "code",
   "execution_count": 26,
   "id": "52abb12d",
   "metadata": {},
   "outputs": [],
   "source": [
    "# Saving as a data frame\n",
    "#pd.DataFrame(similarity_df).to_csv('bigram_similarity_df.csv')\n",
    "#Importing after assigning true labels for these terms to check for the performace of the model\n",
    "similarity_df=pd.read_csv(\"/Users/dhanushkikkisetti/Documents/Research Assistant/Scripts/bigram_similarity_df.csv\")"
   ]
  },
  {
   "cell_type": "code",
   "execution_count": 27,
   "id": "4b5f423e",
   "metadata": {},
   "outputs": [],
   "source": [
    "true=list(similarity_df['true_label'])\n",
    "predict=list(similarity_df['predict'])"
   ]
  },
  {
   "cell_type": "code",
   "execution_count": 30,
   "id": "41b5f469",
   "metadata": {},
   "outputs": [
    {
     "name": "stdout",
     "output_type": "stream",
     "text": [
      "Accuracy Score : 0.76\n",
      "Precision Score : 0.6626506024096386\n",
      "Recall Score : 0.873015873015873\n",
      "F1_Score : 0.7534246575342466\n"
     ]
    }
   ],
   "source": [
    "print(\"Accuracy Score :\",accuracy_score(true,predict))\n",
    "print(\"Precision Score :\",precision_score(true,predict))\n",
    "print(\"Recall Score :\",recall_score(true,predict))\n",
    "print(\"F1_Score :\",f1_score(true,predict))\n"
   ]
  },
  {
   "cell_type": "code",
   "execution_count": 31,
   "id": "d4412817",
   "metadata": {},
   "outputs": [
    {
     "data": {
      "text/plain": [
       "array([[59, 28],\n",
       "       [ 8, 55]])"
      ]
     },
     "execution_count": 31,
     "metadata": {},
     "output_type": "execute_result"
    }
   ],
   "source": [
    "from sklearn.metrics import confusion_matrix\n",
    "confusion_matrix(true,predict)"
   ]
  },
  {
   "cell_type": "markdown",
   "id": "7d3edf80",
   "metadata": {},
   "source": [
    "## Monitoring the terms that are antisemetic by both predicted and true labels."
   ]
  },
  {
   "cell_type": "code",
   "execution_count": 40,
   "id": "d181833d",
   "metadata": {},
   "outputs": [
    {
     "data": {
      "text/plain": [
       "['date',\n",
       " 'george soros',\n",
       " 'deep state',\n",
       " 'alex jones',\n",
       " 'world order',\n",
       " 'klaus schwab',\n",
       " 'white hat',\n",
       " 'free speech',\n",
       " 'new world',\n",
       " 'open society',\n",
       " 'zionist jew',\n",
       " 'social medium',\n",
       " 'support ukraine',\n",
       " 'rothschild family',\n",
       " 'davos group',\n",
       " 'economic forum',\n",
       " 'russia ukraine',\n",
       " 'nigger kike',\n",
       " 'elon musk',\n",
       " 'world economic',\n",
       " 'white people',\n",
       " 'joe biden',\n",
       " 'khazarian mafia',\n",
       " 'election fraud',\n",
       " 'crime family',\n",
       " 'world war',\n",
       " 'soros schwab',\n",
       " 'joe rogan',\n",
       " 'schwab wef',\n",
       " 'hunter biden',\n",
       " 'climate change',\n",
       " 'jacob rothschild',\n",
       " 'big pharma',\n",
       " 'tax money',\n",
       " 'banking system',\n",
       " 'district attorney',\n",
       " 'eastern european',\n",
       " 'biden white',\n",
       " 'crime humanity',\n",
       " 'division white',\n",
       " 'kikeuntil jew',\n",
       " 'people kikeuntil',\n",
       " 'conspiracy theory',\n",
       " 'gate fauci',\n",
       " 'jewish israeli',\n",
       " 'kike shill',\n",
       " 'house dozen',\n",
       " 'kike nigger',\n",
       " 'warwith nato',\n",
       " 'ron desantis',\n",
       " 'kiss death',\n",
       " 'florida governor',\n",
       " 'munich security',\n",
       " 'shrewd ruthless',\n",
       " 'security conference',\n",
       " 'firearm soros']"
      ]
     },
     "execution_count": 40,
     "metadata": {},
     "output_type": "execute_result"
    }
   ],
   "source": [
    "# Selecting terms that are both antisemetic by true label and predicted label\n",
    "similarity_df=similarity_df[(similarity_df['true_label']==1) & (similarity_df['predict']==1)]\n",
    "imp_terms=list(similarity_df['Term'])\n",
    "imp_terms=[' '.join(i.split('_')) for i in imp_terms]\n",
    "imp_terms.insert(0,'date')\n",
    "imp_terms"
   ]
  },
  {
   "cell_type": "code",
   "execution_count": 41,
   "id": "c98d42ef",
   "metadata": {},
   "outputs": [],
   "source": [
    "def terms_frequency(starting_date,windowsize):\n",
    "    df=pd.DataFrame(columns=imp_terms)\n",
    "    x=pd.to_datetime(starting_date)\n",
    "    r={}\n",
    "    check=True\n",
    "    if x>data['Date'].max():\n",
    "        return 'Check the starting date'\n",
    "    \n",
    "    while(check):\n",
    "        r['date']=x\n",
    "        if (x+timedelta(days=windowsize))>=data['Date'].max():\n",
    "            y=data['Date'].max()\n",
    "            check=False\n",
    "        else:\n",
    "            y=(x+timedelta(days=windowsize))\n",
    "        data1=data['clean'][(data['Date']>=x)&(data['Date']<y)]\n",
    "        text=' '.join(data1)\n",
    "        x=x+timedelta(days=windowsize)\n",
    "        \n",
    "        text1=text.split(\" \")\n",
    "        #bigrams\n",
    "        pairs=list(zip(text1[:-1],text1[1:]))\n",
    "        bigrams=[' '.join(i) for i in pairs]\n",
    "        for i in range(1,len(imp_terms)):\n",
    "            r[imp_terms[i]]=0\n",
    "            for j in bigrams:\n",
    "                if j==imp_terms[i] or imp_terms[i] in j:\n",
    "                    r[imp_terms[i]]=r[imp_terms[i]]+1\n",
    "        df=df.append(r,ignore_index = True)\n",
    "        \n",
    "    return df\n",
    "        "
   ]
  },
  {
   "cell_type": "code",
   "execution_count": 42,
   "id": "3b7d98ed",
   "metadata": {},
   "outputs": [],
   "source": [
    "new=terms_frequency(starting_date='2022-12-24',windowsize=10)"
   ]
  },
  {
   "cell_type": "code",
   "execution_count": 43,
   "id": "5515fbc0",
   "metadata": {},
   "outputs": [
    {
     "data": {
      "text/html": [
       "<div>\n",
       "<style scoped>\n",
       "    .dataframe tbody tr th:only-of-type {\n",
       "        vertical-align: middle;\n",
       "    }\n",
       "\n",
       "    .dataframe tbody tr th {\n",
       "        vertical-align: top;\n",
       "    }\n",
       "\n",
       "    .dataframe thead th {\n",
       "        text-align: right;\n",
       "    }\n",
       "</style>\n",
       "<table border=\"1\" class=\"dataframe\">\n",
       "  <thead>\n",
       "    <tr style=\"text-align: right;\">\n",
       "      <th></th>\n",
       "      <th>date</th>\n",
       "      <th>george soros</th>\n",
       "      <th>deep state</th>\n",
       "      <th>alex jones</th>\n",
       "      <th>world order</th>\n",
       "      <th>klaus schwab</th>\n",
       "      <th>white hat</th>\n",
       "      <th>free speech</th>\n",
       "      <th>new world</th>\n",
       "      <th>open society</th>\n",
       "      <th>...</th>\n",
       "      <th>house dozen</th>\n",
       "      <th>kike nigger</th>\n",
       "      <th>warwith nato</th>\n",
       "      <th>ron desantis</th>\n",
       "      <th>kiss death</th>\n",
       "      <th>florida governor</th>\n",
       "      <th>munich security</th>\n",
       "      <th>shrewd ruthless</th>\n",
       "      <th>security conference</th>\n",
       "      <th>firearm soros</th>\n",
       "    </tr>\n",
       "  </thead>\n",
       "  <tbody>\n",
       "    <tr>\n",
       "      <th>0</th>\n",
       "      <td>2022-12-24</td>\n",
       "      <td>501</td>\n",
       "      <td>172</td>\n",
       "      <td>62</td>\n",
       "      <td>57</td>\n",
       "      <td>54</td>\n",
       "      <td>48</td>\n",
       "      <td>70</td>\n",
       "      <td>45</td>\n",
       "      <td>45</td>\n",
       "      <td>...</td>\n",
       "      <td>0</td>\n",
       "      <td>28</td>\n",
       "      <td>0</td>\n",
       "      <td>1</td>\n",
       "      <td>0</td>\n",
       "      <td>0</td>\n",
       "      <td>0</td>\n",
       "      <td>0</td>\n",
       "      <td>0</td>\n",
       "      <td>0</td>\n",
       "    </tr>\n",
       "    <tr>\n",
       "      <th>1</th>\n",
       "      <td>2023-01-03</td>\n",
       "      <td>670</td>\n",
       "      <td>194</td>\n",
       "      <td>7</td>\n",
       "      <td>92</td>\n",
       "      <td>68</td>\n",
       "      <td>61</td>\n",
       "      <td>33</td>\n",
       "      <td>78</td>\n",
       "      <td>122</td>\n",
       "      <td>...</td>\n",
       "      <td>0</td>\n",
       "      <td>26</td>\n",
       "      <td>0</td>\n",
       "      <td>5</td>\n",
       "      <td>0</td>\n",
       "      <td>0</td>\n",
       "      <td>1</td>\n",
       "      <td>0</td>\n",
       "      <td>1</td>\n",
       "      <td>0</td>\n",
       "    </tr>\n",
       "    <tr>\n",
       "      <th>2</th>\n",
       "      <td>2023-01-13</td>\n",
       "      <td>974</td>\n",
       "      <td>126</td>\n",
       "      <td>33</td>\n",
       "      <td>128</td>\n",
       "      <td>208</td>\n",
       "      <td>49</td>\n",
       "      <td>12</td>\n",
       "      <td>120</td>\n",
       "      <td>125</td>\n",
       "      <td>...</td>\n",
       "      <td>0</td>\n",
       "      <td>30</td>\n",
       "      <td>0</td>\n",
       "      <td>13</td>\n",
       "      <td>0</td>\n",
       "      <td>7</td>\n",
       "      <td>2</td>\n",
       "      <td>0</td>\n",
       "      <td>4</td>\n",
       "      <td>0</td>\n",
       "    </tr>\n",
       "    <tr>\n",
       "      <th>3</th>\n",
       "      <td>2023-01-23</td>\n",
       "      <td>1141</td>\n",
       "      <td>142</td>\n",
       "      <td>15</td>\n",
       "      <td>111</td>\n",
       "      <td>58</td>\n",
       "      <td>46</td>\n",
       "      <td>12</td>\n",
       "      <td>102</td>\n",
       "      <td>224</td>\n",
       "      <td>...</td>\n",
       "      <td>35</td>\n",
       "      <td>34</td>\n",
       "      <td>0</td>\n",
       "      <td>5</td>\n",
       "      <td>0</td>\n",
       "      <td>0</td>\n",
       "      <td>0</td>\n",
       "      <td>0</td>\n",
       "      <td>0</td>\n",
       "      <td>0</td>\n",
       "    </tr>\n",
       "    <tr>\n",
       "      <th>4</th>\n",
       "      <td>2023-02-02</td>\n",
       "      <td>602</td>\n",
       "      <td>118</td>\n",
       "      <td>24</td>\n",
       "      <td>86</td>\n",
       "      <td>54</td>\n",
       "      <td>40</td>\n",
       "      <td>10</td>\n",
       "      <td>77</td>\n",
       "      <td>143</td>\n",
       "      <td>...</td>\n",
       "      <td>1</td>\n",
       "      <td>34</td>\n",
       "      <td>53</td>\n",
       "      <td>19</td>\n",
       "      <td>0</td>\n",
       "      <td>1</td>\n",
       "      <td>0</td>\n",
       "      <td>0</td>\n",
       "      <td>0</td>\n",
       "      <td>0</td>\n",
       "    </tr>\n",
       "    <tr>\n",
       "      <th>5</th>\n",
       "      <td>2023-02-12</td>\n",
       "      <td>1030</td>\n",
       "      <td>144</td>\n",
       "      <td>23</td>\n",
       "      <td>57</td>\n",
       "      <td>84</td>\n",
       "      <td>29</td>\n",
       "      <td>11</td>\n",
       "      <td>50</td>\n",
       "      <td>129</td>\n",
       "      <td>...</td>\n",
       "      <td>1</td>\n",
       "      <td>31</td>\n",
       "      <td>1</td>\n",
       "      <td>178</td>\n",
       "      <td>53</td>\n",
       "      <td>53</td>\n",
       "      <td>51</td>\n",
       "      <td>49</td>\n",
       "      <td>48</td>\n",
       "      <td>40</td>\n",
       "    </tr>\n",
       "  </tbody>\n",
       "</table>\n",
       "<p>6 rows × 56 columns</p>\n",
       "</div>"
      ],
      "text/plain": [
       "        date george soros deep state alex jones world order klaus schwab  \\\n",
       "0 2022-12-24          501        172         62          57           54   \n",
       "1 2023-01-03          670        194          7          92           68   \n",
       "2 2023-01-13          974        126         33         128          208   \n",
       "3 2023-01-23         1141        142         15         111           58   \n",
       "4 2023-02-02          602        118         24          86           54   \n",
       "5 2023-02-12         1030        144         23          57           84   \n",
       "\n",
       "  white hat free speech new world open society  ... house dozen kike nigger  \\\n",
       "0        48          70        45           45  ...           0          28   \n",
       "1        61          33        78          122  ...           0          26   \n",
       "2        49          12       120          125  ...           0          30   \n",
       "3        46          12       102          224  ...          35          34   \n",
       "4        40          10        77          143  ...           1          34   \n",
       "5        29          11        50          129  ...           1          31   \n",
       "\n",
       "  warwith nato ron desantis kiss death florida governor munich security  \\\n",
       "0            0            1          0                0               0   \n",
       "1            0            5          0                0               1   \n",
       "2            0           13          0                7               2   \n",
       "3            0            5          0                0               0   \n",
       "4           53           19          0                1               0   \n",
       "5            1          178         53               53              51   \n",
       "\n",
       "  shrewd ruthless security conference firearm soros  \n",
       "0               0                   0             0  \n",
       "1               0                   1             0  \n",
       "2               0                   4             0  \n",
       "3               0                   0             0  \n",
       "4               0                   0             0  \n",
       "5              49                  48            40  \n",
       "\n",
       "[6 rows x 56 columns]"
      ]
     },
     "execution_count": 43,
     "metadata": {},
     "output_type": "execute_result"
    }
   ],
   "source": [
    "new"
   ]
  },
  {
   "cell_type": "code",
   "execution_count": null,
   "id": "1db84ab9",
   "metadata": {},
   "outputs": [],
   "source": [
    "# Save as csv for later visualisations.\n",
    "pd.DataFrame(new).to_csv(\"bigrams_Antisemitism_terms.csv\")"
   ]
  }
 ],
 "metadata": {
  "kernelspec": {
   "display_name": "Python 3 (ipykernel)",
   "language": "python",
   "name": "python3"
  },
  "language_info": {
   "codemirror_mode": {
    "name": "ipython",
    "version": 3
   },
   "file_extension": ".py",
   "mimetype": "text/x-python",
   "name": "python",
   "nbconvert_exporter": "python",
   "pygments_lexer": "ipython3",
   "version": "3.10.6"
  }
 },
 "nbformat": 4,
 "nbformat_minor": 5
}
